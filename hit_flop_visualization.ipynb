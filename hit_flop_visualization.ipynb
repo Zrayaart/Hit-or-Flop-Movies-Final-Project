{
 "cells": [
  {
   "cell_type": "code",
   "execution_count": 4,
   "metadata": {},
   "outputs": [
    {
     "name": "stdout",
     "output_type": "stream",
     "text": [
      "Complete movies with budget and revenue: 3297\n",
      "Hits: 2120 (64.30%)\n",
      "Flops: 1177 (35.70%)\n",
      "\n",
      "Logistic Regression Results:\n",
      "Accuracy: 0.6758\n",
      "F1 Score: 0.7752\n"
     ]
    },
    {
     "data": {
      "image/png": "[encoded data removed]",
      "text/plain": [
       "<matplotlib.figure.Figure at 0xffffb12e8908>"
      ]
     },
     "metadata": {},
     "output_type": "display_data"
    }
   ],
   "source": [
    "import pandas as pd\n",
    "import numpy as np\n",
    "import matplotlib.pyplot as plt\n",
    "from sklearn.model_selection import train_test_split\n",
    "from sklearn.preprocessing import StandardScaler\n",
    "from sklearn.linear_model import LogisticRegression\n",
    "from sklearn.metrics import accuracy_score, f1_score\n",
    "\n",
    "# Load the preprocessed data\n",
    "df = pd.read_csv(\"./Filtered IMDb Movies TV Shows.csv\")\n",
    "\n",
    "# Convert Budget and Revenue to numeric\n",
    "df['Budget'] = pd.to_numeric(df['budget'], errors='coerce')\n",
    "df['Revenue'] = pd.to_numeric(df['gross'], errors='coerce')\n",
    "\n",
    "# Define hit/flop - 1 if revenue >= 2*budget, 0 otherwise\n",
    "df['is_hit'] = np.where(df['gross'] >= 2*df['budget'], 1, 0)\n",
    "\n",
    "# Filter to include only rows with both budget and revenue\n",
    "df_complete = df.dropna(subset=['Budget', 'Revenue', 'is_hit'])\n",
    "\n",
    "print(f\"Complete movies with budget and revenue: {df_complete.shape[0]}\")\n",
    "print(f\"Hits: {df_complete['is_hit'].sum()} ({df_complete['is_hit'].mean()*100:.2f}%)\")\n",
    "print(f\"Flops: {df_complete.shape[0] - df_complete['is_hit'].sum()} ({(1-df_complete['is_hit'].mean())*100:.2f}%)\")\n",
    "\n",
    "features = ['budget', 'runtimeMinutes', 'averageRating', 'numVotes']\n",
    "\n",
    "X = df_complete[features].copy()\n",
    "y = df_complete['is_hit']\n",
    "\n",
    "# Split data into training and testing sets\n",
    "X_train, X_test, y_train, y_test = train_test_split(X, y, test_size=0.2, random_state=42)\n",
    "\n",
    "# Scale features\n",
    "scaler = StandardScaler()\n",
    "X_train_scaled = scaler.fit_transform(X_train)\n",
    "X_test_scaled = scaler.transform(X_test)\n",
    "\n",
    "# Train logistic regression model\n",
    "model = LogisticRegression(max_iter=1000, random_state=42)\n",
    "model.fit(X_train_scaled, y_train)\n",
    "\n",
    "# Make predictions\n",
    "y_pred = model.predict(X_test_scaled)\n",
    "\n",
    "# Calculate metrics\n",
    "accuracy = accuracy_score(y_test, y_pred)\n",
    "f1 = f1_score(y_test, y_pred)\n",
    "\n",
    "# Print results\n",
    "print(\"\\nLogistic Regression Results:\")\n",
    "print(f\"Accuracy: {accuracy:.4f}\")\n",
    "print(f\"F1 Score: {f1:.4f}\")\n",
    "\n",
    "# Creates visualization\n",
    "plt.figure(figsize=(10, 6))\n",
    "metrics = ['Accuracy', 'F1 Score']\n",
    "scores = [accuracy, f1]\n",
    "\n",
    "plt.bar(metrics, scores, color=['purple', 'green'])\n",
    "plt.ylim(0, 1)\n",
    "plt.title('Logistic Regression Performance')\n",
    "plt.ylabel('Score')\n",
    "plt.savefig('logistic_regression_performance.png', dpi=300)\n",
    "plt.show()\n"
   ]
  }
 ],
 "metadata": {
  "kernelspec": {
   "display_name": "Python 3",
   "language": "python",
   "name": "python3"
  },
  "language_info": {
   "codemirror_mode": {
    "name": "ipython",
    "version": 3
   },
   "file_extension": ".py",
   "mimetype": "text/x-python",
   "name": "python",
   "nbconvert_exporter": "python",
   "pygments_lexer": "ipython3",
   "version": "3.6.9"
  }
 },
 "nbformat": 4,
 "nbformat_minor": 2
}
